{
 "cells": [
  {
   "cell_type": "markdown",
   "metadata": {},
   "source": [
    "### [Intervals](https://www.codewars.com/kata/52b7ed099cdc285c300001cd)"
   ]
  },
  {
   "cell_type": "code",
   "execution_count": null,
   "metadata": {},
   "outputs": [],
   "source": [
    "def sum_of_intervals(intervals):\n",
    "    intervals.sort(key=lambda x: x[0])\n",
    "\n",
    "    i = 1\n",
    "    length = len(intervals)\n",
    "\n",
    "    while i < length:\n",
    "        a1, b1 = intervals[i - 1]\n",
    "        a2, b2 = intervals[i]\n",
    "\n",
    "        if b1 >= a2:\n",
    "            a3 = a1\n",
    "            b3 = max(b1, b2)\n",
    "            intervals[i-1 : i+1] = [(a3, b3)]\n",
    "            length = len(intervals)\n",
    "        else:\n",
    "            i += 1\n",
    "\n",
    "    print(intervals)\n",
    "\n",
    "    sum = 0\n",
    "    for a, b in intervals:\n",
    "        sum += b - a\n",
    "\n",
    "    return sum\n",
    "\n",
    "print(sum_of_intervals([(1, 5), (6, 10)]))"
   ]
  }
 ],
 "metadata": {
  "kernelspec": {
   "display_name": "Python 3.8.9 64-bit",
   "language": "python",
   "name": "python3"
  },
  "language_info": {
   "codemirror_mode": {
    "name": "ipython",
    "version": 3
   },
   "file_extension": ".py",
   "mimetype": "text/x-python",
   "name": "python",
   "nbconvert_exporter": "python",
   "pygments_lexer": "ipython3",
   "version": "3.8.9"
  },
  "orig_nbformat": 4,
  "vscode": {
   "interpreter": {
    "hash": "31f2aee4e71d21fbe5cf8b01ff0e069b9275f58929596ceb00d14d90e3e16cd6"
   }
  }
 },
 "nbformat": 4,
 "nbformat_minor": 2
}
