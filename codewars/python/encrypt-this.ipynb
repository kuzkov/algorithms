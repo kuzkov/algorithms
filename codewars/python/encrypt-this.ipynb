{
 "cells": [
  {
   "cell_type": "markdown",
   "metadata": {},
   "source": [
    "https://www.codewars.com/kata/5848565e273af816fb000449"
   ]
  },
  {
   "cell_type": "code",
   "execution_count": 28,
   "metadata": {},
   "outputs": [
    {
     "name": "stdout",
     "output_type": "stream",
     "text": [
      "72olle 87drlo\n",
      "65 119esi 111dl 111lw 108dvei 105n 97n 111ka\n"
     ]
    }
   ],
   "source": [
    "def encrypt_this(text):\n",
    "  words = text.split(' ')\n",
    "  encrypted = []\n",
    "\n",
    "  for word in words:\n",
    "    if len(word) == 0:\n",
    "      continue\n",
    "\n",
    "    [first_char, *chars] = [*word]\n",
    "\n",
    "    n = len(chars)\n",
    "\n",
    "    if n == 0:\n",
    "      encrypted.append( str(ord(first_char)))\n",
    "      continue\n",
    "\n",
    "    chars[0], chars[n-1] = chars[n-1], chars[0]\n",
    "    \n",
    "    encrypted.append(str(ord(first_char)) + ''.join(chars))\n",
    "\n",
    "  return ' '.join(encrypted)\n",
    "\n",
    "\n",
    "\n",
    "print(encrypt_this(\"Hello World\"))\n",
    "print(encrypt_this(\"A wise old owl lived in an oak\"))"
   ]
  }
 ],
 "metadata": {
  "kernelspec": {
   "display_name": "Python 3.10.8 64-bit",
   "language": "python",
   "name": "python3"
  },
  "language_info": {
   "codemirror_mode": {
    "name": "ipython",
    "version": 3
   },
   "file_extension": ".py",
   "mimetype": "text/x-python",
   "name": "python",
   "nbconvert_exporter": "python",
   "pygments_lexer": "ipython3",
   "version": "3.10.8"
  },
  "orig_nbformat": 4,
  "vscode": {
   "interpreter": {
    "hash": "b0fa6594d8f4cbf19f97940f81e996739fb7646882a419484c72d19e05852a7e"
   }
  }
 },
 "nbformat": 4,
 "nbformat_minor": 2
}
