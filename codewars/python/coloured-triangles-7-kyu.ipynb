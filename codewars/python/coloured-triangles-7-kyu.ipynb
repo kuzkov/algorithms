{
 "cells": [
  {
   "cell_type": "markdown",
   "metadata": {},
   "source": [
    "### Coloured Triangles\n",
    "[7 kyu](https://www.codewars.com/kata/5a25ac6ac5e284cfbe000111)\n",
    "[2 kyu](https://www.codewars.com/kata/5a331ea7ee1aae8f24000175)\n"
   ]
  },
  {
   "cell_type": "code",
   "execution_count": 83,
   "metadata": {},
   "outputs": [],
   "source": [
    "def naive_triangle(row):\n",
    "  colors = {\"R\", \"G\", \"B\"}\n",
    "\n",
    "  if len(row) == 1:\n",
    "    return row\n",
    "\n",
    "  res = \"\"\n",
    "\n",
    "  for i in range(len(row) - 1):\n",
    "    if row[i] == row[i + 1]:\n",
    "      res += row[i]\n",
    "    else:\n",
    "      res += colors.difference({row[i], row[i + 1]}).pop()\n",
    "  \n",
    "  return naive_triangle(res)"
   ]
  },
  {
   "cell_type": "code",
   "execution_count": 84,
   "metadata": {},
   "outputs": [
    {
     "name": "stdout",
     "output_type": "stream",
     "text": [
      "True\n",
      "True\n",
      "True\n",
      "True\n",
      "True\n",
      "True\n"
     ]
    }
   ],
   "source": [
    "print(naive_triangle('GB') == 'R')\n",
    "print(naive_triangle('RRR') == 'R')\n",
    "print(naive_triangle('RGBG') == 'B')\n",
    "print(naive_triangle('RBRGBRB') == 'G')\n",
    "print(naive_triangle('RBRGBRBGGRRRBGBBBGG') == 'G')\n",
    "print(naive_triangle('B') == 'B')"
   ]
  },
  {
   "cell_type": "code",
   "execution_count": 79,
   "metadata": {},
   "outputs": [],
   "source": [
    "# def C(n, k):\n",
    "#   if 0 <= k <= n:\n",
    "#     nn = 1\n",
    "#     kk = 1\n",
    "\n",
    "#     for t in range(1, min(k, n - k) + 1):\n",
    "#       nn *= n\n",
    "#       kk *= t\n",
    "#       n -= 1\n",
    "\n",
    "#     return nn // kk\n",
    "\n",
    "#   return 0\n",
    "\n",
    "\n",
    "# def triangle(line):\n",
    "#   colors = {\n",
    "#     \"R\": 0, \"G\": 1, \"B\": 2,\n",
    "#     0: \"R\", 1: \"G\", 2: \"B\"\n",
    "#   }\n",
    "#   n = len(line)\n",
    "#   sum = 0\n",
    "\n",
    "#   if n == 1:\n",
    "#     return line\n",
    "\n",
    "#   sign = 1 if (n - 1) % 2 == 0 else -1\n",
    "#   for i in range(n):\n",
    "#     sum += sign * C(n - 1, i) * colors[line[i]]\n",
    "#     sum %= 3\n",
    "  \n",
    "#   return colors[sum]\n",
    "\n",
    "\n",
    "# print(triangle('GB') == 'R')\n",
    "# print(triangle('RRR') == 'R')\n",
    "# print(triangle('RGBG') == 'B')\n",
    "# print(triangle('RBRGBRB') == 'G')\n",
    "# print(triangle('RBRGBRBGGRRRBGBBBGG') == 'G')\n",
    "# print(triangle('B') == 'B')"
   ]
  },
  {
   "cell_type": "code",
   "execution_count": 9,
   "metadata": {},
   "outputs": [
    {
     "name": "stdout",
     "output_type": "stream",
     "text": [
      "True\n"
     ]
    }
   ],
   "source": [
    "import math\n",
    "\n",
    "\n",
    "def get_color(x, y):\n",
    "  colors = set(\"RGB\")\n",
    "  return x if x == y else colors.difference(x, y).pop()\n",
    "\n",
    "\n",
    "def get_shift(n):\n",
    "  if n < 4:\n",
    "    return 1\n",
    "  \n",
    "  s = 4\n",
    "  while s <= n:\n",
    "    s = s * 3 - 2\n",
    "  \n",
    "  if s > n:\n",
    "    s = (s + 2) // 3\n",
    "\n",
    "  return s\n",
    "\n",
    "\n",
    "def triangle(row):\n",
    "  while len(row) != 1:\n",
    "    n = len(row)\n",
    "    s = get_shift(n) - 1\n",
    "    temp_row = \"\"\n",
    "\n",
    "    if s == 0:\n",
    "      s = 1\n",
    "\n",
    "    for i in range(n - s):\n",
    "      x, y = row[i], row[i + s]\n",
    "      temp_row += get_color(x, y)\n",
    "    \n",
    "    row = temp_row\n",
    "\n",
    "  return row\n",
    "\n",
    "# print(triangle('GB') == 'R')\n",
    "# print(triangle('BB') == 'B')\n",
    "# print(triangle('RRR') == 'R')\n",
    "# print(triangle('RGBG') == 'B')\n",
    "# print(triangle('RBRGBRB') == 'G')\n",
    "# print(triangle('RBRGBRBGGRRRBGBBBGG') == 'G')\n",
    "# print(triangle('B') == 'B')\n",
    "# print(triangle('R') == 'R')\n",
    "# print(triangle('G') == 'G')\n",
    "print(triangle(\"RRRBRBBRGBRRRGRGGRBBBBGGRBGGBRBGGGRRGGGRRRRGGRRBRRRGBGBBRGRBBBRBRGGBRRRGGRBGBBRGBBBRBGRRRGRGRRGRRGBRRGRGRGBRBBGBGRGRRRRBRBRGRRRGRGBBRRGBRRBBRRRGRBGRRGBGBRBGGGGRRBRBGRBBBBBRBGBBRGRGRBGBBRRBRRBBGGRGRBRRGGRGBRBBGRBGRRGRRBGBBBRGRBRRBBRRGGRRGBBBGGBRGGBBBRB\") == \"B\")"
   ]
  }
 ],
 "metadata": {
  "kernelspec": {
   "display_name": "Python 3.8.9 64-bit",
   "language": "python",
   "name": "python3"
  },
  "language_info": {
   "codemirror_mode": {
    "name": "ipython",
    "version": 3
   },
   "file_extension": ".py",
   "mimetype": "text/x-python",
   "name": "python",
   "nbconvert_exporter": "python",
   "pygments_lexer": "ipython3",
   "version": "3.8.9"
  },
  "orig_nbformat": 4,
  "vscode": {
   "interpreter": {
    "hash": "31f2aee4e71d21fbe5cf8b01ff0e069b9275f58929596ceb00d14d90e3e16cd6"
   }
  }
 },
 "nbformat": 4,
 "nbformat_minor": 2
}
