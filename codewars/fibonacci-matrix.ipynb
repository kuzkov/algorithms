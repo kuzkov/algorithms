{
 "cells": [
  {
   "cell_type": "markdown",
   "metadata": {},
   "source": [
    "Fibonaccy in O(log n)\n",
    "https://www.codewars.com/kata/53d40c1e2f13e331fc000c26"
   ]
  },
  {
   "cell_type": "code",
   "execution_count": 27,
   "metadata": {},
   "outputs": [
    {
     "name": "stdout",
     "output_type": "stream",
     "text": [
      "True\n",
      "True\n",
      "[[ True]]\n",
      "[[ True]]\n",
      "True\n",
      "True\n",
      "True\n",
      "[[ True]]\n",
      "[[ True]]\n",
      "[[ True]]\n",
      "[[ True]]\n",
      "[[ True]]\n",
      "[[ True]]\n",
      "[[ True]]\n"
     ]
    }
   ],
   "source": [
    "import numpy as np\n",
    "\n",
    "\n",
    "def pow(matrix, power):\n",
    "    if power == 1:\n",
    "        return matrix\n",
    "\n",
    "    if power % 2 == 1:\n",
    "        return matrix * (pow(matrix, (power - 1) / 2) ** 2)\n",
    "\n",
    "    return pow(matrix, power / 2) ** 2\n",
    "\n",
    "\n",
    "def fib(n):\n",
    "    if n == -2:\n",
    "        return -1\n",
    "    \n",
    "    if n == -1:\n",
    "        return 1\n",
    "    \n",
    "    if n == 0:\n",
    "        return 0\n",
    "\n",
    "    if n == 1 or n == 2:\n",
    "        return 1\n",
    "    \n",
    "    pn = abs(n)\n",
    "\n",
    "    F = np.matrix([[2, 1], [1, 1]], dtype=object)\n",
    "    I = np.ones((2, 1), dtype=object)\n",
    "    k = (pn - 1) // 2\n",
    "    r = pn % 2\n",
    "    res = pow(F, k) * I\n",
    "\n",
    "    f = res[0] if r == 0 else res[1]\n",
    "\n",
    "    if n > 0:\n",
    "      return f\n",
    "    else:\n",
    "      return f if r == 1 else -f\n",
    "\n",
    "\n",
    "print(fib(-1) == 1)\n",
    "print(fib(-2) == -1)\n",
    "print(fib(-3) == 2)\n",
    "print(fib(-4) == -3)\n",
    "\n",
    "print(fib(0) == 0)\n",
    "print(fib(1) == 1)\n",
    "print(fib(2) == 1)\n",
    "print(fib(3) == 2)\n",
    "print(fib(4) == 3)\n",
    "print(fib(5) == 5)\n",
    "print(fib(6) == 8)\n",
    "print(fib(7) == 13)\n",
    "print(fib(8) == 21)\n",
    "print(fib(9) == 34)\n",
    "# print(fib(1000) == 43466557686937456435688527675040625802564660517371780402481729089536555417949051890403879840079255169295922593080322634775209689623239873322471161642996440906533187938298969649928516003704476137795166849228875)"
   ]
  }
 ],
 "metadata": {
  "kernelspec": {
   "display_name": "Python 3.10.8 64-bit",
   "language": "python",
   "name": "python3"
  },
  "language_info": {
   "codemirror_mode": {
    "name": "ipython",
    "version": 3
   },
   "file_extension": ".py",
   "mimetype": "text/x-python",
   "name": "python",
   "nbconvert_exporter": "python",
   "pygments_lexer": "ipython3",
   "version": "3.10.8"
  },
  "orig_nbformat": 4,
  "vscode": {
   "interpreter": {
    "hash": "b0fa6594d8f4cbf19f97940f81e996739fb7646882a419484c72d19e05852a7e"
   }
  }
 },
 "nbformat": 4,
 "nbformat_minor": 2
}
